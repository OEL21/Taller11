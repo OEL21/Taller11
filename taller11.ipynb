{
 "cells": [
  {
   "cell_type": "markdown",
   "metadata": {},
   "source": [
    "<img src='https://encrypted-tbn0.gstatic.com/images?q=tbn%3AANd9GcQ-VfNtOyJbsaxu43Kztf_cv1mgBG6ZIQZEVw&usqp=CAU'>\n",
    "\n",
    "# Procesamiento de Lenguage Natural\n",
    "\n",
    "## Taller #11: Twitter\n",
    "`Fecha de entrega: Mayo 20, 2021 (Antes del inicio de la próxima clase).`\n",
    "\n",
    "`Modo de entrega: Subir link de GitHub al aula virtual.`"
   ]
  },
  {
   "cell_type": "markdown",
   "metadata": {},
   "source": [
    "###  `[25 pts]` Punto 1: Extraer Tuits\n",
    "Extraer mínimo 100 tuits de Twitter usando la API\n",
    "\n",
    "❌ No escoger un tema de los que hicimos en clase (día de las madres, Giro de Italia, #EraGoldeYepes)"
   ]
  },
  {
   "cell_type": "code",
   "execution_count": 1,
   "metadata": {},
   "outputs": [
    {
     "data": {
      "text/plain": [
       "dict_keys(['api_key', 'api_secret_key', 'access_token', 'access_token_secret', 'bearer_token'])"
      ]
     },
     "execution_count": 1,
     "metadata": {},
     "output_type": "execute_result"
    }
   ],
   "source": [
    "import pandas as pd\n",
    "import tweepy\n",
    "\n",
    "# Leer las llaves\n",
    "keys = pd.read_csv(\"mis_llaves.csv\", sep=';',header=None)\n",
    "keys = dict(zip(keys[0],keys[1]))\n",
    "keys.keys()"
   ]
  },
  {
   "cell_type": "code",
   "execution_count": 2,
   "metadata": {},
   "outputs": [],
   "source": [
    "auth = tweepy.OAuthHandler(keys['api_key'], keys['api_secret_key'])\n",
    "auth.set_access_token(keys['access_token'], keys['access_token_secret'])\n",
    "api = tweepy.API(auth, wait_on_rate_limit=True)\n",
    "tweets = tweepy.Cursor(api.search,\n",
    "                       q=['paro nacional -RT'],\n",
    "                       lang='es',\n",
    "                       geocode=f'4.7110,-74.0721,100km',\n",
    "                       tweet_mode='extended',\n",
    "                       include_rts=False).items(100)"
   ]
  },
  {
   "cell_type": "code",
   "execution_count": 3,
   "metadata": {},
   "outputs": [],
   "source": [
    "t = [tweet for tweet in tweets]\n",
    "t_processed = []\n",
    "\n",
    "for tweet in t:\n",
    "    temp = []\n",
    "    temp.append(tweet.full_text)\n",
    "    temp.append(tweet.created_at)\n",
    "    temp.append(\"Bogotá\")\n",
    "    temp.append(tweet.user.location)\n",
    "    temp.append(tweet.id)\n",
    "    temp.append(f\"https://twitter.com/i/web/status/{tweet.id}\")\n",
    "    \n",
    "    t_processed.append(temp)"
   ]
  },
  {
   "cell_type": "code",
   "execution_count": 4,
   "metadata": {},
   "outputs": [
    {
     "data": {
      "text/html": [
       "<div>\n",
       "<style scoped>\n",
       "    .dataframe tbody tr th:only-of-type {\n",
       "        vertical-align: middle;\n",
       "    }\n",
       "\n",
       "    .dataframe tbody tr th {\n",
       "        vertical-align: top;\n",
       "    }\n",
       "\n",
       "    .dataframe thead th {\n",
       "        text-align: right;\n",
       "    }\n",
       "</style>\n",
       "<table border=\"1\" class=\"dataframe\">\n",
       "  <thead>\n",
       "    <tr style=\"text-align: right;\">\n",
       "      <th></th>\n",
       "      <th>tweet</th>\n",
       "      <th>date</th>\n",
       "      <th>city</th>\n",
       "      <th>user_location</th>\n",
       "      <th>id</th>\n",
       "      <th>link</th>\n",
       "    </tr>\n",
       "  </thead>\n",
       "  <tbody>\n",
       "    <tr>\n",
       "      <th>0</th>\n",
       "      <td>@Frankia25Elena @PoliciaColombia Pareciera que...</td>\n",
       "      <td>2021-05-20 21:21:48</td>\n",
       "      <td>Bogotá</td>\n",
       "      <td>Bogotá, D.C., Colombia</td>\n",
       "      <td>1395489962490015745</td>\n",
       "      <td>https://twitter.com/i/web/status/1395489962490...</td>\n",
       "    </tr>\n",
       "    <tr>\n",
       "      <th>1</th>\n",
       "      <td>#noticias Comité Nacional del Paro convoca mar...</td>\n",
       "      <td>2021-05-20 21:19:46</td>\n",
       "      <td>Bogotá</td>\n",
       "      <td>Bogotá</td>\n",
       "      <td>1395489449967067137</td>\n",
       "      <td>https://twitter.com/i/web/status/1395489449967...</td>\n",
       "    </tr>\n",
       "    <tr>\n",
       "      <th>2</th>\n",
       "      <td>¡Ganamos! Después de 20 días en pie de lucha c...</td>\n",
       "      <td>2021-05-20 21:19:44</td>\n",
       "      <td>Bogotá</td>\n",
       "      <td>Villavicencio Meta</td>\n",
       "      <td>1395489440299196416</td>\n",
       "      <td>https://twitter.com/i/web/status/1395489440299...</td>\n",
       "    </tr>\n",
       "    <tr>\n",
       "      <th>3</th>\n",
       "      <td>@RevistaSemana ¿Qué tan común es que una polic...</td>\n",
       "      <td>2021-05-20 21:16:27</td>\n",
       "      <td>Bogotá</td>\n",
       "      <td>Bogotá, Colombia</td>\n",
       "      <td>1395488616843972612</td>\n",
       "      <td>https://twitter.com/i/web/status/1395488616843...</td>\n",
       "    </tr>\n",
       "    <tr>\n",
       "      <th>4</th>\n",
       "      <td>@JuanaLaRola VIVA EL PARO NACIONAL!</td>\n",
       "      <td>2021-05-20 21:16:20</td>\n",
       "      <td>Bogotá</td>\n",
       "      <td>Bogotá</td>\n",
       "      <td>1395488586678607881</td>\n",
       "      <td>https://twitter.com/i/web/status/1395488586678...</td>\n",
       "    </tr>\n",
       "  </tbody>\n",
       "</table>\n",
       "</div>"
      ],
      "text/plain": [
       "                                               tweet                date  \\\n",
       "0  @Frankia25Elena @PoliciaColombia Pareciera que... 2021-05-20 21:21:48   \n",
       "1  #noticias Comité Nacional del Paro convoca mar... 2021-05-20 21:19:46   \n",
       "2  ¡Ganamos! Después de 20 días en pie de lucha c... 2021-05-20 21:19:44   \n",
       "3  @RevistaSemana ¿Qué tan común es que una polic... 2021-05-20 21:16:27   \n",
       "4                @JuanaLaRola VIVA EL PARO NACIONAL! 2021-05-20 21:16:20   \n",
       "\n",
       "     city           user_location                   id  \\\n",
       "0  Bogotá  Bogotá, D.C., Colombia  1395489962490015745   \n",
       "1  Bogotá                  Bogotá  1395489449967067137   \n",
       "2  Bogotá      Villavicencio Meta  1395489440299196416   \n",
       "3  Bogotá        Bogotá, Colombia  1395488616843972612   \n",
       "4  Bogotá                  Bogotá  1395488586678607881   \n",
       "\n",
       "                                                link  \n",
       "0  https://twitter.com/i/web/status/1395489962490...  \n",
       "1  https://twitter.com/i/web/status/1395489449967...  \n",
       "2  https://twitter.com/i/web/status/1395489440299...  \n",
       "3  https://twitter.com/i/web/status/1395488616843...  \n",
       "4  https://twitter.com/i/web/status/1395488586678...  "
      ]
     },
     "execution_count": 4,
     "metadata": {},
     "output_type": "execute_result"
    }
   ],
   "source": [
    "data = pd.DataFrame(t_processed)\n",
    "data.columns = ['tweet', 'date', 'city', 'user_location', 'id', 'link']\n",
    "data.head()"
   ]
  },
  {
   "cell_type": "code",
   "execution_count": 5,
   "metadata": {},
   "outputs": [],
   "source": [
    "import re\n",
    "\n",
    "pattern1 = '?P<pic>pic.twitter.com/[^\\s]+'\n",
    "pattern2 = '?P<url>https?://[^\\s]+'\n",
    "\n",
    "def text_clean(row):\n",
    "    text = row['tweet']\n",
    "    \n",
    "    links = [tuple(j for j in i if j)[-1] for i in re.findall(f\"({pattern1})|({pattern2})\",text)]\n",
    "    for link in links:\n",
    "        text = text.replace(link,\"\")\n",
    "             \n",
    "    hashtags = [interaction for interaction in text.split() if interaction.startswith(\"#\")]\n",
    "    for hashtag in hashtags:\n",
    "        text = text.replace(hashtag,\"\")\n",
    "        \n",
    "    mentions = [interaction for interaction in text.split() if interaction.startswith(\"@\")]\n",
    "    for mention in mentions:\n",
    "        text = text.replace(mention,\"\")\n",
    "        \n",
    "    return text, links, hashtags, mentions"
   ]
  },
  {
   "cell_type": "code",
   "execution_count": 6,
   "metadata": {},
   "outputs": [
    {
     "data": {
      "text/html": [
       "<div>\n",
       "<style scoped>\n",
       "    .dataframe tbody tr th:only-of-type {\n",
       "        vertical-align: middle;\n",
       "    }\n",
       "\n",
       "    .dataframe tbody tr th {\n",
       "        vertical-align: top;\n",
       "    }\n",
       "\n",
       "    .dataframe thead th {\n",
       "        text-align: right;\n",
       "    }\n",
       "</style>\n",
       "<table border=\"1\" class=\"dataframe\">\n",
       "  <thead>\n",
       "    <tr style=\"text-align: right;\">\n",
       "      <th></th>\n",
       "      <th>tweet</th>\n",
       "      <th>date</th>\n",
       "      <th>city</th>\n",
       "      <th>user_location</th>\n",
       "      <th>id</th>\n",
       "      <th>link</th>\n",
       "      <th>clean</th>\n",
       "      <th>links</th>\n",
       "      <th>hashtags</th>\n",
       "      <th>mentions</th>\n",
       "    </tr>\n",
       "  </thead>\n",
       "  <tbody>\n",
       "    <tr>\n",
       "      <th>0</th>\n",
       "      <td>@Frankia25Elena @PoliciaColombia Pareciera que...</td>\n",
       "      <td>2021-05-20 21:21:48</td>\n",
       "      <td>Bogotá</td>\n",
       "      <td>Bogotá, D.C., Colombia</td>\n",
       "      <td>1395489962490015745</td>\n",
       "      <td>https://twitter.com/i/web/status/1395489962490...</td>\n",
       "      <td>Pareciera que por estas cosas es que   y otr...</td>\n",
       "      <td>[]</td>\n",
       "      <td>[]</td>\n",
       "      <td>[@Frankia25Elena, @PoliciaColombia, @IvanCeped...</td>\n",
       "    </tr>\n",
       "    <tr>\n",
       "      <th>1</th>\n",
       "      <td>#noticias Comité Nacional del Paro convoca mar...</td>\n",
       "      <td>2021-05-20 21:19:46</td>\n",
       "      <td>Bogotá</td>\n",
       "      <td>Bogotá</td>\n",
       "      <td>1395489449967067137</td>\n",
       "      <td>https://twitter.com/i/web/status/1395489449967...</td>\n",
       "      <td>Comité Nacional del Paro convoca marchas para...</td>\n",
       "      <td>[]</td>\n",
       "      <td>[#noticias, #Colombia.#Opinion, #PalacioNacion...</td>\n",
       "      <td>[]</td>\n",
       "    </tr>\n",
       "    <tr>\n",
       "      <th>2</th>\n",
       "      <td>¡Ganamos! Después de 20 días en pie de lucha c...</td>\n",
       "      <td>2021-05-20 21:19:44</td>\n",
       "      <td>Bogotá</td>\n",
       "      <td>Villavicencio Meta</td>\n",
       "      <td>1395489440299196416</td>\n",
       "      <td>https://twitter.com/i/web/status/1395489440299...</td>\n",
       "      <td>¡Ganamos! Después de 20 días en pie de lucha c...</td>\n",
       "      <td>[https://t.co/hFMxmFeIvp]</td>\n",
       "      <td>[]</td>\n",
       "      <td>[@PartidoVerdeCoL, @CamiloRomero, @AntonioSang...</td>\n",
       "    </tr>\n",
       "    <tr>\n",
       "      <th>3</th>\n",
       "      <td>@RevistaSemana ¿Qué tan común es que una polic...</td>\n",
       "      <td>2021-05-20 21:16:27</td>\n",
       "      <td>Bogotá</td>\n",
       "      <td>Bogotá, Colombia</td>\n",
       "      <td>1395488616843972612</td>\n",
       "      <td>https://twitter.com/i/web/status/1395488616843...</td>\n",
       "      <td>¿Qué tan común es que una policía se quede so...</td>\n",
       "      <td>[]</td>\n",
       "      <td>[]</td>\n",
       "      <td>[@RevistaSemana]</td>\n",
       "    </tr>\n",
       "    <tr>\n",
       "      <th>4</th>\n",
       "      <td>@JuanaLaRola VIVA EL PARO NACIONAL!</td>\n",
       "      <td>2021-05-20 21:16:20</td>\n",
       "      <td>Bogotá</td>\n",
       "      <td>Bogotá</td>\n",
       "      <td>1395488586678607881</td>\n",
       "      <td>https://twitter.com/i/web/status/1395488586678...</td>\n",
       "      <td>VIVA EL PARO NACIONAL!</td>\n",
       "      <td>[]</td>\n",
       "      <td>[]</td>\n",
       "      <td>[@JuanaLaRola]</td>\n",
       "    </tr>\n",
       "  </tbody>\n",
       "</table>\n",
       "</div>"
      ],
      "text/plain": [
       "                                               tweet                date  \\\n",
       "0  @Frankia25Elena @PoliciaColombia Pareciera que... 2021-05-20 21:21:48   \n",
       "1  #noticias Comité Nacional del Paro convoca mar... 2021-05-20 21:19:46   \n",
       "2  ¡Ganamos! Después de 20 días en pie de lucha c... 2021-05-20 21:19:44   \n",
       "3  @RevistaSemana ¿Qué tan común es que una polic... 2021-05-20 21:16:27   \n",
       "4                @JuanaLaRola VIVA EL PARO NACIONAL! 2021-05-20 21:16:20   \n",
       "\n",
       "     city           user_location                   id  \\\n",
       "0  Bogotá  Bogotá, D.C., Colombia  1395489962490015745   \n",
       "1  Bogotá                  Bogotá  1395489449967067137   \n",
       "2  Bogotá      Villavicencio Meta  1395489440299196416   \n",
       "3  Bogotá        Bogotá, Colombia  1395488616843972612   \n",
       "4  Bogotá                  Bogotá  1395488586678607881   \n",
       "\n",
       "                                                link  \\\n",
       "0  https://twitter.com/i/web/status/1395489962490...   \n",
       "1  https://twitter.com/i/web/status/1395489449967...   \n",
       "2  https://twitter.com/i/web/status/1395489440299...   \n",
       "3  https://twitter.com/i/web/status/1395488616843...   \n",
       "4  https://twitter.com/i/web/status/1395488586678...   \n",
       "\n",
       "                                               clean  \\\n",
       "0    Pareciera que por estas cosas es que   y otr...   \n",
       "1   Comité Nacional del Paro convoca marchas para...   \n",
       "2  ¡Ganamos! Después de 20 días en pie de lucha c...   \n",
       "3   ¿Qué tan común es que una policía se quede so...   \n",
       "4                             VIVA EL PARO NACIONAL!   \n",
       "\n",
       "                       links  \\\n",
       "0                         []   \n",
       "1                         []   \n",
       "2  [https://t.co/hFMxmFeIvp]   \n",
       "3                         []   \n",
       "4                         []   \n",
       "\n",
       "                                            hashtags  \\\n",
       "0                                                 []   \n",
       "1  [#noticias, #Colombia.#Opinion, #PalacioNacion...   \n",
       "2                                                 []   \n",
       "3                                                 []   \n",
       "4                                                 []   \n",
       "\n",
       "                                            mentions  \n",
       "0  [@Frankia25Elena, @PoliciaColombia, @IvanCeped...  \n",
       "1                                                 []  \n",
       "2  [@PartidoVerdeCoL, @CamiloRomero, @AntonioSang...  \n",
       "3                                   [@RevistaSemana]  \n",
       "4                                     [@JuanaLaRola]  "
      ]
     },
     "execution_count": 6,
     "metadata": {},
     "output_type": "execute_result"
    }
   ],
   "source": [
    "data[['clean', 'links', 'hashtags', 'mentions']] = data.apply(text_clean, axis=1, result_type='expand')\n",
    "\n",
    "data.head()"
   ]
  },
  {
   "cell_type": "code",
   "execution_count": 7,
   "metadata": {},
   "outputs": [],
   "source": [
    "import regex\n",
    "import emoji\n",
    "\n",
    "def get_emojis(text):\n",
    "    emoji_list = []\n",
    "    data = regex.findall(r'\\X', text)\n",
    "    for word in data:\n",
    "        if any(char in emoji.UNICODE_EMOJI['en'] for char in word):\n",
    "            emoji_list.append(word)\n",
    "\n",
    "    return emoji_list\n",
    "\n",
    "data['emojis'] = data['clean'].apply(lambda text: get_emojis(text))"
   ]
  },
  {
   "cell_type": "code",
   "execution_count": 8,
   "metadata": {},
   "outputs": [
    {
     "data": {
      "text/html": [
       "<div>\n",
       "<style scoped>\n",
       "    .dataframe tbody tr th:only-of-type {\n",
       "        vertical-align: middle;\n",
       "    }\n",
       "\n",
       "    .dataframe tbody tr th {\n",
       "        vertical-align: top;\n",
       "    }\n",
       "\n",
       "    .dataframe thead th {\n",
       "        text-align: right;\n",
       "    }\n",
       "</style>\n",
       "<table border=\"1\" class=\"dataframe\">\n",
       "  <thead>\n",
       "    <tr style=\"text-align: right;\">\n",
       "      <th></th>\n",
       "      <th>tweet</th>\n",
       "      <th>date</th>\n",
       "      <th>city</th>\n",
       "      <th>user_location</th>\n",
       "      <th>id</th>\n",
       "      <th>link</th>\n",
       "      <th>clean</th>\n",
       "      <th>links</th>\n",
       "      <th>hashtags</th>\n",
       "      <th>mentions</th>\n",
       "      <th>emojis</th>\n",
       "    </tr>\n",
       "  </thead>\n",
       "  <tbody>\n",
       "    <tr>\n",
       "      <th>0</th>\n",
       "      <td>@Frankia25Elena @PoliciaColombia Pareciera que...</td>\n",
       "      <td>2021-05-20 21:21:48</td>\n",
       "      <td>Bogotá</td>\n",
       "      <td>Bogotá, D.C., Colombia</td>\n",
       "      <td>1395489962490015745</td>\n",
       "      <td>https://twitter.com/i/web/status/1395489962490...</td>\n",
       "      <td>Pareciera que por estas cosas es que   y otr...</td>\n",
       "      <td>[]</td>\n",
       "      <td>[]</td>\n",
       "      <td>[@Frankia25Elena, @PoliciaColombia, @IvanCeped...</td>\n",
       "      <td>[]</td>\n",
       "    </tr>\n",
       "    <tr>\n",
       "      <th>1</th>\n",
       "      <td>#noticias Comité Nacional del Paro convoca mar...</td>\n",
       "      <td>2021-05-20 21:19:46</td>\n",
       "      <td>Bogotá</td>\n",
       "      <td>Bogotá</td>\n",
       "      <td>1395489449967067137</td>\n",
       "      <td>https://twitter.com/i/web/status/1395489449967...</td>\n",
       "      <td>Comité Nacional del Paro convoca marchas para...</td>\n",
       "      <td>[]</td>\n",
       "      <td>[#noticias, #Colombia.#Opinion, #PalacioNacion...</td>\n",
       "      <td>[]</td>\n",
       "      <td>[]</td>\n",
       "    </tr>\n",
       "    <tr>\n",
       "      <th>2</th>\n",
       "      <td>¡Ganamos! Después de 20 días en pie de lucha c...</td>\n",
       "      <td>2021-05-20 21:19:44</td>\n",
       "      <td>Bogotá</td>\n",
       "      <td>Villavicencio Meta</td>\n",
       "      <td>1395489440299196416</td>\n",
       "      <td>https://twitter.com/i/web/status/1395489440299...</td>\n",
       "      <td>¡Ganamos! Después de 20 días en pie de lucha c...</td>\n",
       "      <td>[https://t.co/hFMxmFeIvp]</td>\n",
       "      <td>[]</td>\n",
       "      <td>[@PartidoVerdeCoL, @CamiloRomero, @AntonioSang...</td>\n",
       "      <td>[]</td>\n",
       "    </tr>\n",
       "    <tr>\n",
       "      <th>3</th>\n",
       "      <td>@RevistaSemana ¿Qué tan común es que una polic...</td>\n",
       "      <td>2021-05-20 21:16:27</td>\n",
       "      <td>Bogotá</td>\n",
       "      <td>Bogotá, Colombia</td>\n",
       "      <td>1395488616843972612</td>\n",
       "      <td>https://twitter.com/i/web/status/1395488616843...</td>\n",
       "      <td>¿Qué tan común es que una policía se quede so...</td>\n",
       "      <td>[]</td>\n",
       "      <td>[]</td>\n",
       "      <td>[@RevistaSemana]</td>\n",
       "      <td>[]</td>\n",
       "    </tr>\n",
       "    <tr>\n",
       "      <th>4</th>\n",
       "      <td>@JuanaLaRola VIVA EL PARO NACIONAL!</td>\n",
       "      <td>2021-05-20 21:16:20</td>\n",
       "      <td>Bogotá</td>\n",
       "      <td>Bogotá</td>\n",
       "      <td>1395488586678607881</td>\n",
       "      <td>https://twitter.com/i/web/status/1395488586678...</td>\n",
       "      <td>VIVA EL PARO NACIONAL!</td>\n",
       "      <td>[]</td>\n",
       "      <td>[]</td>\n",
       "      <td>[@JuanaLaRola]</td>\n",
       "      <td>[]</td>\n",
       "    </tr>\n",
       "  </tbody>\n",
       "</table>\n",
       "</div>"
      ],
      "text/plain": [
       "                                               tweet                date  \\\n",
       "0  @Frankia25Elena @PoliciaColombia Pareciera que... 2021-05-20 21:21:48   \n",
       "1  #noticias Comité Nacional del Paro convoca mar... 2021-05-20 21:19:46   \n",
       "2  ¡Ganamos! Después de 20 días en pie de lucha c... 2021-05-20 21:19:44   \n",
       "3  @RevistaSemana ¿Qué tan común es que una polic... 2021-05-20 21:16:27   \n",
       "4                @JuanaLaRola VIVA EL PARO NACIONAL! 2021-05-20 21:16:20   \n",
       "\n",
       "     city           user_location                   id  \\\n",
       "0  Bogotá  Bogotá, D.C., Colombia  1395489962490015745   \n",
       "1  Bogotá                  Bogotá  1395489449967067137   \n",
       "2  Bogotá      Villavicencio Meta  1395489440299196416   \n",
       "3  Bogotá        Bogotá, Colombia  1395488616843972612   \n",
       "4  Bogotá                  Bogotá  1395488586678607881   \n",
       "\n",
       "                                                link  \\\n",
       "0  https://twitter.com/i/web/status/1395489962490...   \n",
       "1  https://twitter.com/i/web/status/1395489449967...   \n",
       "2  https://twitter.com/i/web/status/1395489440299...   \n",
       "3  https://twitter.com/i/web/status/1395488616843...   \n",
       "4  https://twitter.com/i/web/status/1395488586678...   \n",
       "\n",
       "                                               clean  \\\n",
       "0    Pareciera que por estas cosas es que   y otr...   \n",
       "1   Comité Nacional del Paro convoca marchas para...   \n",
       "2  ¡Ganamos! Después de 20 días en pie de lucha c...   \n",
       "3   ¿Qué tan común es que una policía se quede so...   \n",
       "4                             VIVA EL PARO NACIONAL!   \n",
       "\n",
       "                       links  \\\n",
       "0                         []   \n",
       "1                         []   \n",
       "2  [https://t.co/hFMxmFeIvp]   \n",
       "3                         []   \n",
       "4                         []   \n",
       "\n",
       "                                            hashtags  \\\n",
       "0                                                 []   \n",
       "1  [#noticias, #Colombia.#Opinion, #PalacioNacion...   \n",
       "2                                                 []   \n",
       "3                                                 []   \n",
       "4                                                 []   \n",
       "\n",
       "                                            mentions emojis  \n",
       "0  [@Frankia25Elena, @PoliciaColombia, @IvanCeped...     []  \n",
       "1                                                 []     []  \n",
       "2  [@PartidoVerdeCoL, @CamiloRomero, @AntonioSang...     []  \n",
       "3                                   [@RevistaSemana]     []  \n",
       "4                                     [@JuanaLaRola]     []  "
      ]
     },
     "execution_count": 8,
     "metadata": {},
     "output_type": "execute_result"
    }
   ],
   "source": [
    "data.head()"
   ]
  },
  {
   "cell_type": "markdown",
   "metadata": {},
   "source": [
    "###  `[25 pts]` Punto 2: Hacer una visualización sobre esos tuits"
   ]
  },
  {
   "cell_type": "code",
   "execution_count": 9,
   "metadata": {},
   "outputs": [
    {
     "data": {
      "text/html": [
       "        <script type=\"text/javascript\">\n",
       "        window.PlotlyConfig = {MathJaxConfig: 'local'};\n",
       "        if (window.MathJax) {MathJax.Hub.Config({SVG: {font: \"STIX-Web\"}});}\n",
       "        if (typeof require !== 'undefined') {\n",
       "        require.undef(\"plotly\");\n",
       "        requirejs.config({\n",
       "            paths: {\n",
       "                'plotly': ['https://cdn.plot.ly/plotly-latest.min']\n",
       "            }\n",
       "        });\n",
       "        require(['plotly'], function(Plotly) {\n",
       "            window._Plotly = Plotly;\n",
       "        });\n",
       "        }\n",
       "        </script>\n",
       "        "
      ]
     },
     "metadata": {},
     "output_type": "display_data"
    }
   ],
   "source": [
    "import plotly.io as pio\n",
    "import plotly.express as px\n",
    "import plotly.graph_objs as go\n",
    "from plotly.offline import download_plotlyjs, init_notebook_mode, plot, iplot\n",
    "\n",
    "import matplotlib.pyplot as plt\n",
    "%matplotlib inline\n",
    "init_notebook_mode(connected=True)"
   ]
  },
  {
   "cell_type": "code",
   "execution_count": 13,
   "metadata": {},
   "outputs": [],
   "source": [
    "data['fecha'] = data.date.dt.floor('T').dt.time\n",
    "\n",
    "temp = pd.DataFrame(data.fecha.value_counts()).reset_index()\n",
    "temp.columns = ['fecha', 'cnt']\n",
    "temp = temp.sort_values('fecha')"
   ]
  },
  {
   "cell_type": "code",
   "execution_count": 15,
   "metadata": {},
   "outputs": [
    {
     "data": {
      "application/vnd.plotly.v1+json": {
       "config": {
        "linkText": "Export to plot.ly",
        "plotlyServerURL": "https://plot.ly",
        "showLink": false
       },
       "data": [
        {
         "hoverinfo": "text",
         "line": {
          "color": "#1DA1F2"
         },
         "mode": "lines+markers",
         "name": "Días",
         "text": [
          "Fecha: 19:35:00<br>Tuits: 1",
          "Fecha: 19:36:00<br>Tuits: 2",
          "Fecha: 19:38:00<br>Tuits: 1",
          "Fecha: 19:41:00<br>Tuits: 3",
          "Fecha: 19:45:00<br>Tuits: 2",
          "Fecha: 19:46:00<br>Tuits: 4",
          "Fecha: 19:47:00<br>Tuits: 1",
          "Fecha: 19:48:00<br>Tuits: 2",
          "Fecha: 19:50:00<br>Tuits: 1",
          "Fecha: 19:52:00<br>Tuits: 1",
          "Fecha: 19:53:00<br>Tuits: 2",
          "Fecha: 19:55:00<br>Tuits: 1",
          "Fecha: 19:56:00<br>Tuits: 1",
          "Fecha: 19:58:00<br>Tuits: 1",
          "Fecha: 20:00:00<br>Tuits: 1",
          "Fecha: 20:01:00<br>Tuits: 1",
          "Fecha: 20:02:00<br>Tuits: 3",
          "Fecha: 20:04:00<br>Tuits: 2",
          "Fecha: 20:05:00<br>Tuits: 3",
          "Fecha: 20:06:00<br>Tuits: 1",
          "Fecha: 20:09:00<br>Tuits: 1",
          "Fecha: 20:10:00<br>Tuits: 1",
          "Fecha: 20:12:00<br>Tuits: 1",
          "Fecha: 20:13:00<br>Tuits: 1",
          "Fecha: 20:14:00<br>Tuits: 2",
          "Fecha: 20:18:00<br>Tuits: 1",
          "Fecha: 20:19:00<br>Tuits: 1",
          "Fecha: 20:21:00<br>Tuits: 2",
          "Fecha: 20:22:00<br>Tuits: 1",
          "Fecha: 20:23:00<br>Tuits: 1",
          "Fecha: 20:24:00<br>Tuits: 1",
          "Fecha: 20:26:00<br>Tuits: 1",
          "Fecha: 20:29:00<br>Tuits: 1",
          "Fecha: 20:31:00<br>Tuits: 2",
          "Fecha: 20:32:00<br>Tuits: 1",
          "Fecha: 20:33:00<br>Tuits: 1",
          "Fecha: 20:34:00<br>Tuits: 1",
          "Fecha: 20:35:00<br>Tuits: 1",
          "Fecha: 20:36:00<br>Tuits: 4",
          "Fecha: 20:38:00<br>Tuits: 2",
          "Fecha: 20:39:00<br>Tuits: 1",
          "Fecha: 20:45:00<br>Tuits: 2",
          "Fecha: 20:46:00<br>Tuits: 3",
          "Fecha: 20:47:00<br>Tuits: 1",
          "Fecha: 20:48:00<br>Tuits: 1",
          "Fecha: 20:49:00<br>Tuits: 1",
          "Fecha: 20:51:00<br>Tuits: 3",
          "Fecha: 20:52:00<br>Tuits: 2",
          "Fecha: 20:54:00<br>Tuits: 2",
          "Fecha: 20:56:00<br>Tuits: 3",
          "Fecha: 20:57:00<br>Tuits: 1",
          "Fecha: 20:58:00<br>Tuits: 1",
          "Fecha: 21:00:00<br>Tuits: 1",
          "Fecha: 21:01:00<br>Tuits: 1",
          "Fecha: 21:03:00<br>Tuits: 2",
          "Fecha: 21:04:00<br>Tuits: 2",
          "Fecha: 21:06:00<br>Tuits: 1",
          "Fecha: 21:07:00<br>Tuits: 1",
          "Fecha: 21:12:00<br>Tuits: 1",
          "Fecha: 21:13:00<br>Tuits: 2",
          "Fecha: 21:14:00<br>Tuits: 2",
          "Fecha: 21:16:00<br>Tuits: 2",
          "Fecha: 21:19:00<br>Tuits: 2",
          "Fecha: 21:21:00<br>Tuits: 1"
         ],
         "type": "scatter",
         "x": [
          "19:35:00",
          "19:36:00",
          "19:38:00",
          "19:41:00",
          "19:45:00",
          "19:46:00",
          "19:47:00",
          "19:48:00",
          "19:50:00",
          "19:52:00",
          "19:53:00",
          "19:55:00",
          "19:56:00",
          "19:58:00",
          "20:00:00",
          "20:01:00",
          "20:02:00",
          "20:04:00",
          "20:05:00",
          "20:06:00",
          "20:09:00",
          "20:10:00",
          "20:12:00",
          "20:13:00",
          "20:14:00",
          "20:18:00",
          "20:19:00",
          "20:21:00",
          "20:22:00",
          "20:23:00",
          "20:24:00",
          "20:26:00",
          "20:29:00",
          "20:31:00",
          "20:32:00",
          "20:33:00",
          "20:34:00",
          "20:35:00",
          "20:36:00",
          "20:38:00",
          "20:39:00",
          "20:45:00",
          "20:46:00",
          "20:47:00",
          "20:48:00",
          "20:49:00",
          "20:51:00",
          "20:52:00",
          "20:54:00",
          "20:56:00",
          "20:57:00",
          "20:58:00",
          "21:00:00",
          "21:01:00",
          "21:03:00",
          "21:04:00",
          "21:06:00",
          "21:07:00",
          "21:12:00",
          "21:13:00",
          "21:14:00",
          "21:16:00",
          "21:19:00",
          "21:21:00"
         ],
         "y": [
          1,
          2,
          1,
          3,
          2,
          4,
          1,
          2,
          1,
          1,
          2,
          1,
          1,
          1,
          1,
          1,
          3,
          2,
          3,
          1,
          1,
          1,
          1,
          1,
          2,
          1,
          1,
          2,
          1,
          1,
          1,
          1,
          1,
          2,
          1,
          1,
          1,
          1,
          4,
          2,
          1,
          2,
          3,
          1,
          1,
          1,
          3,
          2,
          2,
          3,
          1,
          1,
          1,
          1,
          2,
          2,
          1,
          1,
          1,
          2,
          2,
          2,
          2,
          1
         ]
        }
       ],
       "layout": {
        "template": {
         "data": {
          "bar": [
           {
            "error_x": {
             "color": "#2a3f5f"
            },
            "error_y": {
             "color": "#2a3f5f"
            },
            "marker": {
             "line": {
              "color": "#E5ECF6",
              "width": 0.5
             }
            },
            "type": "bar"
           }
          ],
          "barpolar": [
           {
            "marker": {
             "line": {
              "color": "#E5ECF6",
              "width": 0.5
             }
            },
            "type": "barpolar"
           }
          ],
          "carpet": [
           {
            "aaxis": {
             "endlinecolor": "#2a3f5f",
             "gridcolor": "white",
             "linecolor": "white",
             "minorgridcolor": "white",
             "startlinecolor": "#2a3f5f"
            },
            "baxis": {
             "endlinecolor": "#2a3f5f",
             "gridcolor": "white",
             "linecolor": "white",
             "minorgridcolor": "white",
             "startlinecolor": "#2a3f5f"
            },
            "type": "carpet"
           }
          ],
          "choropleth": [
           {
            "colorbar": {
             "outlinewidth": 0,
             "ticks": ""
            },
            "type": "choropleth"
           }
          ],
          "contour": [
           {
            "colorbar": {
             "outlinewidth": 0,
             "ticks": ""
            },
            "colorscale": [
             [
              0,
              "#0d0887"
             ],
             [
              0.1111111111111111,
              "#46039f"
             ],
             [
              0.2222222222222222,
              "#7201a8"
             ],
             [
              0.3333333333333333,
              "#9c179e"
             ],
             [
              0.4444444444444444,
              "#bd3786"
             ],
             [
              0.5555555555555556,
              "#d8576b"
             ],
             [
              0.6666666666666666,
              "#ed7953"
             ],
             [
              0.7777777777777778,
              "#fb9f3a"
             ],
             [
              0.8888888888888888,
              "#fdca26"
             ],
             [
              1,
              "#f0f921"
             ]
            ],
            "type": "contour"
           }
          ],
          "contourcarpet": [
           {
            "colorbar": {
             "outlinewidth": 0,
             "ticks": ""
            },
            "type": "contourcarpet"
           }
          ],
          "heatmap": [
           {
            "colorbar": {
             "outlinewidth": 0,
             "ticks": ""
            },
            "colorscale": [
             [
              0,
              "#0d0887"
             ],
             [
              0.1111111111111111,
              "#46039f"
             ],
             [
              0.2222222222222222,
              "#7201a8"
             ],
             [
              0.3333333333333333,
              "#9c179e"
             ],
             [
              0.4444444444444444,
              "#bd3786"
             ],
             [
              0.5555555555555556,
              "#d8576b"
             ],
             [
              0.6666666666666666,
              "#ed7953"
             ],
             [
              0.7777777777777778,
              "#fb9f3a"
             ],
             [
              0.8888888888888888,
              "#fdca26"
             ],
             [
              1,
              "#f0f921"
             ]
            ],
            "type": "heatmap"
           }
          ],
          "heatmapgl": [
           {
            "colorbar": {
             "outlinewidth": 0,
             "ticks": ""
            },
            "colorscale": [
             [
              0,
              "#0d0887"
             ],
             [
              0.1111111111111111,
              "#46039f"
             ],
             [
              0.2222222222222222,
              "#7201a8"
             ],
             [
              0.3333333333333333,
              "#9c179e"
             ],
             [
              0.4444444444444444,
              "#bd3786"
             ],
             [
              0.5555555555555556,
              "#d8576b"
             ],
             [
              0.6666666666666666,
              "#ed7953"
             ],
             [
              0.7777777777777778,
              "#fb9f3a"
             ],
             [
              0.8888888888888888,
              "#fdca26"
             ],
             [
              1,
              "#f0f921"
             ]
            ],
            "type": "heatmapgl"
           }
          ],
          "histogram": [
           {
            "marker": {
             "colorbar": {
              "outlinewidth": 0,
              "ticks": ""
             }
            },
            "type": "histogram"
           }
          ],
          "histogram2d": [
           {
            "colorbar": {
             "outlinewidth": 0,
             "ticks": ""
            },
            "colorscale": [
             [
              0,
              "#0d0887"
             ],
             [
              0.1111111111111111,
              "#46039f"
             ],
             [
              0.2222222222222222,
              "#7201a8"
             ],
             [
              0.3333333333333333,
              "#9c179e"
             ],
             [
              0.4444444444444444,
              "#bd3786"
             ],
             [
              0.5555555555555556,
              "#d8576b"
             ],
             [
              0.6666666666666666,
              "#ed7953"
             ],
             [
              0.7777777777777778,
              "#fb9f3a"
             ],
             [
              0.8888888888888888,
              "#fdca26"
             ],
             [
              1,
              "#f0f921"
             ]
            ],
            "type": "histogram2d"
           }
          ],
          "histogram2dcontour": [
           {
            "colorbar": {
             "outlinewidth": 0,
             "ticks": ""
            },
            "colorscale": [
             [
              0,
              "#0d0887"
             ],
             [
              0.1111111111111111,
              "#46039f"
             ],
             [
              0.2222222222222222,
              "#7201a8"
             ],
             [
              0.3333333333333333,
              "#9c179e"
             ],
             [
              0.4444444444444444,
              "#bd3786"
             ],
             [
              0.5555555555555556,
              "#d8576b"
             ],
             [
              0.6666666666666666,
              "#ed7953"
             ],
             [
              0.7777777777777778,
              "#fb9f3a"
             ],
             [
              0.8888888888888888,
              "#fdca26"
             ],
             [
              1,
              "#f0f921"
             ]
            ],
            "type": "histogram2dcontour"
           }
          ],
          "mesh3d": [
           {
            "colorbar": {
             "outlinewidth": 0,
             "ticks": ""
            },
            "type": "mesh3d"
           }
          ],
          "parcoords": [
           {
            "line": {
             "colorbar": {
              "outlinewidth": 0,
              "ticks": ""
             }
            },
            "type": "parcoords"
           }
          ],
          "pie": [
           {
            "automargin": true,
            "type": "pie"
           }
          ],
          "scatter": [
           {
            "marker": {
             "colorbar": {
              "outlinewidth": 0,
              "ticks": ""
             }
            },
            "type": "scatter"
           }
          ],
          "scatter3d": [
           {
            "line": {
             "colorbar": {
              "outlinewidth": 0,
              "ticks": ""
             }
            },
            "marker": {
             "colorbar": {
              "outlinewidth": 0,
              "ticks": ""
             }
            },
            "type": "scatter3d"
           }
          ],
          "scattercarpet": [
           {
            "marker": {
             "colorbar": {
              "outlinewidth": 0,
              "ticks": ""
             }
            },
            "type": "scattercarpet"
           }
          ],
          "scattergeo": [
           {
            "marker": {
             "colorbar": {
              "outlinewidth": 0,
              "ticks": ""
             }
            },
            "type": "scattergeo"
           }
          ],
          "scattergl": [
           {
            "marker": {
             "colorbar": {
              "outlinewidth": 0,
              "ticks": ""
             }
            },
            "type": "scattergl"
           }
          ],
          "scattermapbox": [
           {
            "marker": {
             "colorbar": {
              "outlinewidth": 0,
              "ticks": ""
             }
            },
            "type": "scattermapbox"
           }
          ],
          "scatterpolar": [
           {
            "marker": {
             "colorbar": {
              "outlinewidth": 0,
              "ticks": ""
             }
            },
            "type": "scatterpolar"
           }
          ],
          "scatterpolargl": [
           {
            "marker": {
             "colorbar": {
              "outlinewidth": 0,
              "ticks": ""
             }
            },
            "type": "scatterpolargl"
           }
          ],
          "scatterternary": [
           {
            "marker": {
             "colorbar": {
              "outlinewidth": 0,
              "ticks": ""
             }
            },
            "type": "scatterternary"
           }
          ],
          "surface": [
           {
            "colorbar": {
             "outlinewidth": 0,
             "ticks": ""
            },
            "colorscale": [
             [
              0,
              "#0d0887"
             ],
             [
              0.1111111111111111,
              "#46039f"
             ],
             [
              0.2222222222222222,
              "#7201a8"
             ],
             [
              0.3333333333333333,
              "#9c179e"
             ],
             [
              0.4444444444444444,
              "#bd3786"
             ],
             [
              0.5555555555555556,
              "#d8576b"
             ],
             [
              0.6666666666666666,
              "#ed7953"
             ],
             [
              0.7777777777777778,
              "#fb9f3a"
             ],
             [
              0.8888888888888888,
              "#fdca26"
             ],
             [
              1,
              "#f0f921"
             ]
            ],
            "type": "surface"
           }
          ],
          "table": [
           {
            "cells": {
             "fill": {
              "color": "#EBF0F8"
             },
             "line": {
              "color": "white"
             }
            },
            "header": {
             "fill": {
              "color": "#C8D4E3"
             },
             "line": {
              "color": "white"
             }
            },
            "type": "table"
           }
          ]
         },
         "layout": {
          "annotationdefaults": {
           "arrowcolor": "#2a3f5f",
           "arrowhead": 0,
           "arrowwidth": 1
          },
          "autotypenumbers": "strict",
          "coloraxis": {
           "colorbar": {
            "outlinewidth": 0,
            "ticks": ""
           }
          },
          "colorscale": {
           "diverging": [
            [
             0,
             "#8e0152"
            ],
            [
             0.1,
             "#c51b7d"
            ],
            [
             0.2,
             "#de77ae"
            ],
            [
             0.3,
             "#f1b6da"
            ],
            [
             0.4,
             "#fde0ef"
            ],
            [
             0.5,
             "#f7f7f7"
            ],
            [
             0.6,
             "#e6f5d0"
            ],
            [
             0.7,
             "#b8e186"
            ],
            [
             0.8,
             "#7fbc41"
            ],
            [
             0.9,
             "#4d9221"
            ],
            [
             1,
             "#276419"
            ]
           ],
           "sequential": [
            [
             0,
             "#0d0887"
            ],
            [
             0.1111111111111111,
             "#46039f"
            ],
            [
             0.2222222222222222,
             "#7201a8"
            ],
            [
             0.3333333333333333,
             "#9c179e"
            ],
            [
             0.4444444444444444,
             "#bd3786"
            ],
            [
             0.5555555555555556,
             "#d8576b"
            ],
            [
             0.6666666666666666,
             "#ed7953"
            ],
            [
             0.7777777777777778,
             "#fb9f3a"
            ],
            [
             0.8888888888888888,
             "#fdca26"
            ],
            [
             1,
             "#f0f921"
            ]
           ],
           "sequentialminus": [
            [
             0,
             "#0d0887"
            ],
            [
             0.1111111111111111,
             "#46039f"
            ],
            [
             0.2222222222222222,
             "#7201a8"
            ],
            [
             0.3333333333333333,
             "#9c179e"
            ],
            [
             0.4444444444444444,
             "#bd3786"
            ],
            [
             0.5555555555555556,
             "#d8576b"
            ],
            [
             0.6666666666666666,
             "#ed7953"
            ],
            [
             0.7777777777777778,
             "#fb9f3a"
            ],
            [
             0.8888888888888888,
             "#fdca26"
            ],
            [
             1,
             "#f0f921"
            ]
           ]
          },
          "colorway": [
           "#636efa",
           "#EF553B",
           "#00cc96",
           "#ab63fa",
           "#FFA15A",
           "#19d3f3",
           "#FF6692",
           "#B6E880",
           "#FF97FF",
           "#FECB52"
          ],
          "font": {
           "color": "#2a3f5f"
          },
          "geo": {
           "bgcolor": "white",
           "lakecolor": "white",
           "landcolor": "#E5ECF6",
           "showlakes": true,
           "showland": true,
           "subunitcolor": "white"
          },
          "hoverlabel": {
           "align": "left"
          },
          "hovermode": "closest",
          "mapbox": {
           "style": "light"
          },
          "paper_bgcolor": "white",
          "plot_bgcolor": "#E5ECF6",
          "polar": {
           "angularaxis": {
            "gridcolor": "white",
            "linecolor": "white",
            "ticks": ""
           },
           "bgcolor": "#E5ECF6",
           "radialaxis": {
            "gridcolor": "white",
            "linecolor": "white",
            "ticks": ""
           }
          },
          "scene": {
           "xaxis": {
            "backgroundcolor": "#E5ECF6",
            "gridcolor": "white",
            "gridwidth": 2,
            "linecolor": "white",
            "showbackground": true,
            "ticks": "",
            "zerolinecolor": "white"
           },
           "yaxis": {
            "backgroundcolor": "#E5ECF6",
            "gridcolor": "white",
            "gridwidth": 2,
            "linecolor": "white",
            "showbackground": true,
            "ticks": "",
            "zerolinecolor": "white"
           },
           "zaxis": {
            "backgroundcolor": "#E5ECF6",
            "gridcolor": "white",
            "gridwidth": 2,
            "linecolor": "white",
            "showbackground": true,
            "ticks": "",
            "zerolinecolor": "white"
           }
          },
          "shapedefaults": {
           "line": {
            "color": "#2a3f5f"
           }
          },
          "ternary": {
           "aaxis": {
            "gridcolor": "white",
            "linecolor": "white",
            "ticks": ""
           },
           "baxis": {
            "gridcolor": "white",
            "linecolor": "white",
            "ticks": ""
           },
           "bgcolor": "#E5ECF6",
           "caxis": {
            "gridcolor": "white",
            "linecolor": "white",
            "ticks": ""
           }
          },
          "title": {
           "x": 0.05
          },
          "xaxis": {
           "automargin": true,
           "gridcolor": "white",
           "linecolor": "white",
           "ticks": "",
           "title": {
            "standoff": 15
           },
           "zerolinecolor": "white",
           "zerolinewidth": 2
          },
          "yaxis": {
           "automargin": true,
           "gridcolor": "white",
           "linecolor": "white",
           "ticks": "",
           "title": {
            "standoff": 15
           },
           "zerolinecolor": "white",
           "zerolinewidth": 2
          }
         }
        },
        "title": {
         "text": "Número de tuits por Hora"
        }
       }
      },
      "text/html": [
       "<div>                            <div id=\"5c18f4d0-034a-4e7e-bde0-9b36108ca4a1\" class=\"plotly-graph-div\" style=\"height:525px; width:100%;\"></div>            <script type=\"text/javascript\">                require([\"plotly\"], function(Plotly) {                    window.PLOTLYENV=window.PLOTLYENV || {};                                    if (document.getElementById(\"5c18f4d0-034a-4e7e-bde0-9b36108ca4a1\")) {                    Plotly.newPlot(                        \"5c18f4d0-034a-4e7e-bde0-9b36108ca4a1\",                        [{\"hoverinfo\": \"text\", \"line\": {\"color\": \"#1DA1F2\"}, \"mode\": \"lines+markers\", \"name\": \"D\\u00edas\", \"text\": [\"Fecha: 19:35:00<br>Tuits: 1\", \"Fecha: 19:36:00<br>Tuits: 2\", \"Fecha: 19:38:00<br>Tuits: 1\", \"Fecha: 19:41:00<br>Tuits: 3\", \"Fecha: 19:45:00<br>Tuits: 2\", \"Fecha: 19:46:00<br>Tuits: 4\", \"Fecha: 19:47:00<br>Tuits: 1\", \"Fecha: 19:48:00<br>Tuits: 2\", \"Fecha: 19:50:00<br>Tuits: 1\", \"Fecha: 19:52:00<br>Tuits: 1\", \"Fecha: 19:53:00<br>Tuits: 2\", \"Fecha: 19:55:00<br>Tuits: 1\", \"Fecha: 19:56:00<br>Tuits: 1\", \"Fecha: 19:58:00<br>Tuits: 1\", \"Fecha: 20:00:00<br>Tuits: 1\", \"Fecha: 20:01:00<br>Tuits: 1\", \"Fecha: 20:02:00<br>Tuits: 3\", \"Fecha: 20:04:00<br>Tuits: 2\", \"Fecha: 20:05:00<br>Tuits: 3\", \"Fecha: 20:06:00<br>Tuits: 1\", \"Fecha: 20:09:00<br>Tuits: 1\", \"Fecha: 20:10:00<br>Tuits: 1\", \"Fecha: 20:12:00<br>Tuits: 1\", \"Fecha: 20:13:00<br>Tuits: 1\", \"Fecha: 20:14:00<br>Tuits: 2\", \"Fecha: 20:18:00<br>Tuits: 1\", \"Fecha: 20:19:00<br>Tuits: 1\", \"Fecha: 20:21:00<br>Tuits: 2\", \"Fecha: 20:22:00<br>Tuits: 1\", \"Fecha: 20:23:00<br>Tuits: 1\", \"Fecha: 20:24:00<br>Tuits: 1\", \"Fecha: 20:26:00<br>Tuits: 1\", \"Fecha: 20:29:00<br>Tuits: 1\", \"Fecha: 20:31:00<br>Tuits: 2\", \"Fecha: 20:32:00<br>Tuits: 1\", \"Fecha: 20:33:00<br>Tuits: 1\", \"Fecha: 20:34:00<br>Tuits: 1\", \"Fecha: 20:35:00<br>Tuits: 1\", \"Fecha: 20:36:00<br>Tuits: 4\", \"Fecha: 20:38:00<br>Tuits: 2\", \"Fecha: 20:39:00<br>Tuits: 1\", \"Fecha: 20:45:00<br>Tuits: 2\", \"Fecha: 20:46:00<br>Tuits: 3\", \"Fecha: 20:47:00<br>Tuits: 1\", \"Fecha: 20:48:00<br>Tuits: 1\", \"Fecha: 20:49:00<br>Tuits: 1\", \"Fecha: 20:51:00<br>Tuits: 3\", \"Fecha: 20:52:00<br>Tuits: 2\", \"Fecha: 20:54:00<br>Tuits: 2\", \"Fecha: 20:56:00<br>Tuits: 3\", \"Fecha: 20:57:00<br>Tuits: 1\", \"Fecha: 20:58:00<br>Tuits: 1\", \"Fecha: 21:00:00<br>Tuits: 1\", \"Fecha: 21:01:00<br>Tuits: 1\", \"Fecha: 21:03:00<br>Tuits: 2\", \"Fecha: 21:04:00<br>Tuits: 2\", \"Fecha: 21:06:00<br>Tuits: 1\", \"Fecha: 21:07:00<br>Tuits: 1\", \"Fecha: 21:12:00<br>Tuits: 1\", \"Fecha: 21:13:00<br>Tuits: 2\", \"Fecha: 21:14:00<br>Tuits: 2\", \"Fecha: 21:16:00<br>Tuits: 2\", \"Fecha: 21:19:00<br>Tuits: 2\", \"Fecha: 21:21:00<br>Tuits: 1\"], \"type\": \"scatter\", \"x\": [\"19:35:00\", \"19:36:00\", \"19:38:00\", \"19:41:00\", \"19:45:00\", \"19:46:00\", \"19:47:00\", \"19:48:00\", \"19:50:00\", \"19:52:00\", \"19:53:00\", \"19:55:00\", \"19:56:00\", \"19:58:00\", \"20:00:00\", \"20:01:00\", \"20:02:00\", \"20:04:00\", \"20:05:00\", \"20:06:00\", \"20:09:00\", \"20:10:00\", \"20:12:00\", \"20:13:00\", \"20:14:00\", \"20:18:00\", \"20:19:00\", \"20:21:00\", \"20:22:00\", \"20:23:00\", \"20:24:00\", \"20:26:00\", \"20:29:00\", \"20:31:00\", \"20:32:00\", \"20:33:00\", \"20:34:00\", \"20:35:00\", \"20:36:00\", \"20:38:00\", \"20:39:00\", \"20:45:00\", \"20:46:00\", \"20:47:00\", \"20:48:00\", \"20:49:00\", \"20:51:00\", \"20:52:00\", \"20:54:00\", \"20:56:00\", \"20:57:00\", \"20:58:00\", \"21:00:00\", \"21:01:00\", \"21:03:00\", \"21:04:00\", \"21:06:00\", \"21:07:00\", \"21:12:00\", \"21:13:00\", \"21:14:00\", \"21:16:00\", \"21:19:00\", \"21:21:00\"], \"y\": [1, 2, 1, 3, 2, 4, 1, 2, 1, 1, 2, 1, 1, 1, 1, 1, 3, 2, 3, 1, 1, 1, 1, 1, 2, 1, 1, 2, 1, 1, 1, 1, 1, 2, 1, 1, 1, 1, 4, 2, 1, 2, 3, 1, 1, 1, 3, 2, 2, 3, 1, 1, 1, 1, 2, 2, 1, 1, 1, 2, 2, 2, 2, 1]}],                        {\"template\": {\"data\": {\"bar\": [{\"error_x\": {\"color\": \"#2a3f5f\"}, \"error_y\": {\"color\": \"#2a3f5f\"}, \"marker\": {\"line\": {\"color\": \"#E5ECF6\", \"width\": 0.5}}, \"type\": \"bar\"}], \"barpolar\": [{\"marker\": {\"line\": {\"color\": \"#E5ECF6\", \"width\": 0.5}}, \"type\": \"barpolar\"}], \"carpet\": [{\"aaxis\": {\"endlinecolor\": \"#2a3f5f\", \"gridcolor\": \"white\", \"linecolor\": \"white\", \"minorgridcolor\": \"white\", \"startlinecolor\": \"#2a3f5f\"}, \"baxis\": {\"endlinecolor\": \"#2a3f5f\", \"gridcolor\": \"white\", \"linecolor\": \"white\", \"minorgridcolor\": \"white\", \"startlinecolor\": \"#2a3f5f\"}, \"type\": \"carpet\"}], \"choropleth\": [{\"colorbar\": {\"outlinewidth\": 0, \"ticks\": \"\"}, \"type\": \"choropleth\"}], \"contour\": [{\"colorbar\": {\"outlinewidth\": 0, \"ticks\": \"\"}, \"colorscale\": [[0.0, \"#0d0887\"], [0.1111111111111111, \"#46039f\"], [0.2222222222222222, \"#7201a8\"], [0.3333333333333333, \"#9c179e\"], [0.4444444444444444, \"#bd3786\"], [0.5555555555555556, \"#d8576b\"], [0.6666666666666666, \"#ed7953\"], [0.7777777777777778, \"#fb9f3a\"], [0.8888888888888888, \"#fdca26\"], [1.0, \"#f0f921\"]], \"type\": \"contour\"}], \"contourcarpet\": [{\"colorbar\": {\"outlinewidth\": 0, \"ticks\": \"\"}, \"type\": \"contourcarpet\"}], \"heatmap\": [{\"colorbar\": {\"outlinewidth\": 0, \"ticks\": \"\"}, \"colorscale\": [[0.0, \"#0d0887\"], [0.1111111111111111, \"#46039f\"], [0.2222222222222222, \"#7201a8\"], [0.3333333333333333, \"#9c179e\"], [0.4444444444444444, \"#bd3786\"], [0.5555555555555556, \"#d8576b\"], [0.6666666666666666, \"#ed7953\"], [0.7777777777777778, \"#fb9f3a\"], [0.8888888888888888, \"#fdca26\"], [1.0, \"#f0f921\"]], \"type\": \"heatmap\"}], \"heatmapgl\": [{\"colorbar\": {\"outlinewidth\": 0, \"ticks\": \"\"}, \"colorscale\": [[0.0, \"#0d0887\"], [0.1111111111111111, \"#46039f\"], [0.2222222222222222, \"#7201a8\"], [0.3333333333333333, \"#9c179e\"], [0.4444444444444444, \"#bd3786\"], [0.5555555555555556, \"#d8576b\"], [0.6666666666666666, \"#ed7953\"], [0.7777777777777778, \"#fb9f3a\"], [0.8888888888888888, \"#fdca26\"], [1.0, \"#f0f921\"]], \"type\": \"heatmapgl\"}], \"histogram\": [{\"marker\": {\"colorbar\": {\"outlinewidth\": 0, \"ticks\": \"\"}}, \"type\": \"histogram\"}], \"histogram2d\": [{\"colorbar\": {\"outlinewidth\": 0, \"ticks\": \"\"}, \"colorscale\": [[0.0, \"#0d0887\"], [0.1111111111111111, \"#46039f\"], [0.2222222222222222, \"#7201a8\"], [0.3333333333333333, \"#9c179e\"], [0.4444444444444444, \"#bd3786\"], [0.5555555555555556, \"#d8576b\"], [0.6666666666666666, \"#ed7953\"], [0.7777777777777778, \"#fb9f3a\"], [0.8888888888888888, \"#fdca26\"], [1.0, \"#f0f921\"]], \"type\": \"histogram2d\"}], \"histogram2dcontour\": [{\"colorbar\": {\"outlinewidth\": 0, \"ticks\": \"\"}, \"colorscale\": [[0.0, \"#0d0887\"], [0.1111111111111111, \"#46039f\"], [0.2222222222222222, \"#7201a8\"], [0.3333333333333333, \"#9c179e\"], [0.4444444444444444, \"#bd3786\"], [0.5555555555555556, \"#d8576b\"], [0.6666666666666666, \"#ed7953\"], [0.7777777777777778, \"#fb9f3a\"], [0.8888888888888888, \"#fdca26\"], [1.0, \"#f0f921\"]], \"type\": \"histogram2dcontour\"}], \"mesh3d\": [{\"colorbar\": {\"outlinewidth\": 0, \"ticks\": \"\"}, \"type\": \"mesh3d\"}], \"parcoords\": [{\"line\": {\"colorbar\": {\"outlinewidth\": 0, \"ticks\": \"\"}}, \"type\": \"parcoords\"}], \"pie\": [{\"automargin\": true, \"type\": \"pie\"}], \"scatter\": [{\"marker\": {\"colorbar\": {\"outlinewidth\": 0, \"ticks\": \"\"}}, \"type\": \"scatter\"}], \"scatter3d\": [{\"line\": {\"colorbar\": {\"outlinewidth\": 0, \"ticks\": \"\"}}, \"marker\": {\"colorbar\": {\"outlinewidth\": 0, \"ticks\": \"\"}}, \"type\": \"scatter3d\"}], \"scattercarpet\": [{\"marker\": {\"colorbar\": {\"outlinewidth\": 0, \"ticks\": \"\"}}, \"type\": \"scattercarpet\"}], \"scattergeo\": [{\"marker\": {\"colorbar\": {\"outlinewidth\": 0, \"ticks\": \"\"}}, \"type\": \"scattergeo\"}], \"scattergl\": [{\"marker\": {\"colorbar\": {\"outlinewidth\": 0, \"ticks\": \"\"}}, \"type\": \"scattergl\"}], \"scattermapbox\": [{\"marker\": {\"colorbar\": {\"outlinewidth\": 0, \"ticks\": \"\"}}, \"type\": \"scattermapbox\"}], \"scatterpolar\": [{\"marker\": {\"colorbar\": {\"outlinewidth\": 0, \"ticks\": \"\"}}, \"type\": \"scatterpolar\"}], \"scatterpolargl\": [{\"marker\": {\"colorbar\": {\"outlinewidth\": 0, \"ticks\": \"\"}}, \"type\": \"scatterpolargl\"}], \"scatterternary\": [{\"marker\": {\"colorbar\": {\"outlinewidth\": 0, \"ticks\": \"\"}}, \"type\": \"scatterternary\"}], \"surface\": [{\"colorbar\": {\"outlinewidth\": 0, \"ticks\": \"\"}, \"colorscale\": [[0.0, \"#0d0887\"], [0.1111111111111111, \"#46039f\"], [0.2222222222222222, \"#7201a8\"], [0.3333333333333333, \"#9c179e\"], [0.4444444444444444, \"#bd3786\"], [0.5555555555555556, \"#d8576b\"], [0.6666666666666666, \"#ed7953\"], [0.7777777777777778, \"#fb9f3a\"], [0.8888888888888888, \"#fdca26\"], [1.0, \"#f0f921\"]], \"type\": \"surface\"}], \"table\": [{\"cells\": {\"fill\": {\"color\": \"#EBF0F8\"}, \"line\": {\"color\": \"white\"}}, \"header\": {\"fill\": {\"color\": \"#C8D4E3\"}, \"line\": {\"color\": \"white\"}}, \"type\": \"table\"}]}, \"layout\": {\"annotationdefaults\": {\"arrowcolor\": \"#2a3f5f\", \"arrowhead\": 0, \"arrowwidth\": 1}, \"autotypenumbers\": \"strict\", \"coloraxis\": {\"colorbar\": {\"outlinewidth\": 0, \"ticks\": \"\"}}, \"colorscale\": {\"diverging\": [[0, \"#8e0152\"], [0.1, \"#c51b7d\"], [0.2, \"#de77ae\"], [0.3, \"#f1b6da\"], [0.4, \"#fde0ef\"], [0.5, \"#f7f7f7\"], [0.6, \"#e6f5d0\"], [0.7, \"#b8e186\"], [0.8, \"#7fbc41\"], [0.9, \"#4d9221\"], [1, \"#276419\"]], \"sequential\": [[0.0, \"#0d0887\"], [0.1111111111111111, \"#46039f\"], [0.2222222222222222, \"#7201a8\"], [0.3333333333333333, \"#9c179e\"], [0.4444444444444444, \"#bd3786\"], [0.5555555555555556, \"#d8576b\"], [0.6666666666666666, \"#ed7953\"], [0.7777777777777778, \"#fb9f3a\"], [0.8888888888888888, \"#fdca26\"], [1.0, \"#f0f921\"]], \"sequentialminus\": [[0.0, \"#0d0887\"], [0.1111111111111111, \"#46039f\"], [0.2222222222222222, \"#7201a8\"], [0.3333333333333333, \"#9c179e\"], [0.4444444444444444, \"#bd3786\"], [0.5555555555555556, \"#d8576b\"], [0.6666666666666666, \"#ed7953\"], [0.7777777777777778, \"#fb9f3a\"], [0.8888888888888888, \"#fdca26\"], [1.0, \"#f0f921\"]]}, \"colorway\": [\"#636efa\", \"#EF553B\", \"#00cc96\", \"#ab63fa\", \"#FFA15A\", \"#19d3f3\", \"#FF6692\", \"#B6E880\", \"#FF97FF\", \"#FECB52\"], \"font\": {\"color\": \"#2a3f5f\"}, \"geo\": {\"bgcolor\": \"white\", \"lakecolor\": \"white\", \"landcolor\": \"#E5ECF6\", \"showlakes\": true, \"showland\": true, \"subunitcolor\": \"white\"}, \"hoverlabel\": {\"align\": \"left\"}, \"hovermode\": \"closest\", \"mapbox\": {\"style\": \"light\"}, \"paper_bgcolor\": \"white\", \"plot_bgcolor\": \"#E5ECF6\", \"polar\": {\"angularaxis\": {\"gridcolor\": \"white\", \"linecolor\": \"white\", \"ticks\": \"\"}, \"bgcolor\": \"#E5ECF6\", \"radialaxis\": {\"gridcolor\": \"white\", \"linecolor\": \"white\", \"ticks\": \"\"}}, \"scene\": {\"xaxis\": {\"backgroundcolor\": \"#E5ECF6\", \"gridcolor\": \"white\", \"gridwidth\": 2, \"linecolor\": \"white\", \"showbackground\": true, \"ticks\": \"\", \"zerolinecolor\": \"white\"}, \"yaxis\": {\"backgroundcolor\": \"#E5ECF6\", \"gridcolor\": \"white\", \"gridwidth\": 2, \"linecolor\": \"white\", \"showbackground\": true, \"ticks\": \"\", \"zerolinecolor\": \"white\"}, \"zaxis\": {\"backgroundcolor\": \"#E5ECF6\", \"gridcolor\": \"white\", \"gridwidth\": 2, \"linecolor\": \"white\", \"showbackground\": true, \"ticks\": \"\", \"zerolinecolor\": \"white\"}}, \"shapedefaults\": {\"line\": {\"color\": \"#2a3f5f\"}}, \"ternary\": {\"aaxis\": {\"gridcolor\": \"white\", \"linecolor\": \"white\", \"ticks\": \"\"}, \"baxis\": {\"gridcolor\": \"white\", \"linecolor\": \"white\", \"ticks\": \"\"}, \"bgcolor\": \"#E5ECF6\", \"caxis\": {\"gridcolor\": \"white\", \"linecolor\": \"white\", \"ticks\": \"\"}}, \"title\": {\"x\": 0.05}, \"xaxis\": {\"automargin\": true, \"gridcolor\": \"white\", \"linecolor\": \"white\", \"ticks\": \"\", \"title\": {\"standoff\": 15}, \"zerolinecolor\": \"white\", \"zerolinewidth\": 2}, \"yaxis\": {\"automargin\": true, \"gridcolor\": \"white\", \"linecolor\": \"white\", \"ticks\": \"\", \"title\": {\"standoff\": 15}, \"zerolinecolor\": \"white\", \"zerolinewidth\": 2}}}, \"title\": {\"text\": \"N\\u00famero de tuits por Hora\"}},                        {\"responsive\": true}                    ).then(function(){\n",
       "                            \n",
       "var gd = document.getElementById('5c18f4d0-034a-4e7e-bde0-9b36108ca4a1');\n",
       "var x = new MutationObserver(function (mutations, observer) {{\n",
       "        var display = window.getComputedStyle(gd).display;\n",
       "        if (!display || display === 'none') {{\n",
       "            console.log([gd, 'removed!']);\n",
       "            Plotly.purge(gd);\n",
       "            observer.disconnect();\n",
       "        }}\n",
       "}});\n",
       "\n",
       "// Listen for the removal of the full notebook cells\n",
       "var notebookContainer = gd.closest('#notebook-container');\n",
       "if (notebookContainer) {{\n",
       "    x.observe(notebookContainer, {childList: true});\n",
       "}}\n",
       "\n",
       "// Listen for the clearing of the current output cell\n",
       "var outputEl = gd.closest('.output');\n",
       "if (outputEl) {{\n",
       "    x.observe(outputEl, {childList: true});\n",
       "}}\n",
       "\n",
       "                        })                };                });            </script>        </div>"
      ]
     },
     "metadata": {},
     "output_type": "display_data"
    }
   ],
   "source": [
    "trace = go.Scatter(x=temp.fecha.values,\n",
    "                   y=temp.cnt.values,\n",
    "                   text=[f\"Fecha: {f}<br>Tuits: {c}\" for f,c in zip(temp.fecha.values,temp.cnt.values)],\n",
    "                   hoverinfo='text',\n",
    "                   mode='lines+markers',\n",
    "                   name='Días',\n",
    "                   line={'color':'#1DA1F2'})\n",
    "\n",
    "layout = go.Layout(title='Número de tuits por Hora')\n",
    "\n",
    "fig = go.Figure(data=[trace], layout=layout)\n",
    "iplot(fig)"
   ]
  },
  {
   "cell_type": "code",
   "execution_count": 16,
   "metadata": {},
   "outputs": [
    {
     "data": {
      "text/html": [
       "<div>\n",
       "<style scoped>\n",
       "    .dataframe tbody tr th:only-of-type {\n",
       "        vertical-align: middle;\n",
       "    }\n",
       "\n",
       "    .dataframe tbody tr th {\n",
       "        vertical-align: top;\n",
       "    }\n",
       "\n",
       "    .dataframe thead th {\n",
       "        text-align: right;\n",
       "    }\n",
       "</style>\n",
       "<table border=\"1\" class=\"dataframe\">\n",
       "  <thead>\n",
       "    <tr style=\"text-align: right;\">\n",
       "      <th></th>\n",
       "      <th>emoji</th>\n",
       "      <th>cnt</th>\n",
       "    </tr>\n",
       "  </thead>\n",
       "  <tbody>\n",
       "    <tr>\n",
       "      <th>5</th>\n",
       "      <td>🙃</td>\n",
       "      <td>4</td>\n",
       "    </tr>\n",
       "    <tr>\n",
       "      <th>14</th>\n",
       "      <td>💪</td>\n",
       "      <td>3</td>\n",
       "    </tr>\n",
       "    <tr>\n",
       "      <th>12</th>\n",
       "      <td>⬇️</td>\n",
       "      <td>2</td>\n",
       "    </tr>\n",
       "    <tr>\n",
       "      <th>13</th>\n",
       "      <td>🔥</td>\n",
       "      <td>2</td>\n",
       "    </tr>\n",
       "    <tr>\n",
       "      <th>0</th>\n",
       "      <td>🤷🏻</td>\n",
       "      <td>1</td>\n",
       "    </tr>\n",
       "  </tbody>\n",
       "</table>\n",
       "</div>"
      ],
      "text/plain": [
       "   emoji  cnt\n",
       "5      🙃    4\n",
       "14     💪    3\n",
       "12    ⬇️    2\n",
       "13     🔥    2\n",
       "0     🤷🏻    1"
      ]
     },
     "execution_count": 16,
     "metadata": {},
     "output_type": "execute_result"
    }
   ],
   "source": [
    "from collections import Counter\n",
    "\n",
    "temp_emojis = pd.DataFrame(list(zip(Counter(sum(data.emojis.values,[])).keys(),Counter(sum(data.emojis.values,[])).values())))\n",
    "temp_emojis.columns = ['emoji', 'cnt']\n",
    "temp_emojis.sort_values('cnt', ascending=False, inplace=True)\n",
    "temp_emojis.head()"
   ]
  },
  {
   "cell_type": "code",
   "execution_count": 17,
   "metadata": {},
   "outputs": [
    {
     "data": {
      "application/vnd.plotly.v1+json": {
       "config": {
        "linkText": "Export to plot.ly",
        "plotlyServerURL": "https://plot.ly",
        "showLink": false
       },
       "data": [
        {
         "type": "bar",
         "x": [
          "🙃",
          "💪",
          "⬇️",
          "🔥",
          "🤷🏻",
          "👉🏼",
          "📌",
          "⏳",
          "🗓",
          "🤦‍♂️",
          "🥳",
          "🚨",
          "📢",
          "✊🏻",
          "➡️"
         ],
         "y": [
          4,
          3,
          2,
          2,
          1,
          1,
          1,
          1,
          1,
          1,
          1,
          1,
          1,
          1,
          1
         ]
        }
       ],
       "layout": {
        "template": {
         "data": {
          "bar": [
           {
            "error_x": {
             "color": "#2a3f5f"
            },
            "error_y": {
             "color": "#2a3f5f"
            },
            "marker": {
             "line": {
              "color": "#E5ECF6",
              "width": 0.5
             }
            },
            "type": "bar"
           }
          ],
          "barpolar": [
           {
            "marker": {
             "line": {
              "color": "#E5ECF6",
              "width": 0.5
             }
            },
            "type": "barpolar"
           }
          ],
          "carpet": [
           {
            "aaxis": {
             "endlinecolor": "#2a3f5f",
             "gridcolor": "white",
             "linecolor": "white",
             "minorgridcolor": "white",
             "startlinecolor": "#2a3f5f"
            },
            "baxis": {
             "endlinecolor": "#2a3f5f",
             "gridcolor": "white",
             "linecolor": "white",
             "minorgridcolor": "white",
             "startlinecolor": "#2a3f5f"
            },
            "type": "carpet"
           }
          ],
          "choropleth": [
           {
            "colorbar": {
             "outlinewidth": 0,
             "ticks": ""
            },
            "type": "choropleth"
           }
          ],
          "contour": [
           {
            "colorbar": {
             "outlinewidth": 0,
             "ticks": ""
            },
            "colorscale": [
             [
              0,
              "#0d0887"
             ],
             [
              0.1111111111111111,
              "#46039f"
             ],
             [
              0.2222222222222222,
              "#7201a8"
             ],
             [
              0.3333333333333333,
              "#9c179e"
             ],
             [
              0.4444444444444444,
              "#bd3786"
             ],
             [
              0.5555555555555556,
              "#d8576b"
             ],
             [
              0.6666666666666666,
              "#ed7953"
             ],
             [
              0.7777777777777778,
              "#fb9f3a"
             ],
             [
              0.8888888888888888,
              "#fdca26"
             ],
             [
              1,
              "#f0f921"
             ]
            ],
            "type": "contour"
           }
          ],
          "contourcarpet": [
           {
            "colorbar": {
             "outlinewidth": 0,
             "ticks": ""
            },
            "type": "contourcarpet"
           }
          ],
          "heatmap": [
           {
            "colorbar": {
             "outlinewidth": 0,
             "ticks": ""
            },
            "colorscale": [
             [
              0,
              "#0d0887"
             ],
             [
              0.1111111111111111,
              "#46039f"
             ],
             [
              0.2222222222222222,
              "#7201a8"
             ],
             [
              0.3333333333333333,
              "#9c179e"
             ],
             [
              0.4444444444444444,
              "#bd3786"
             ],
             [
              0.5555555555555556,
              "#d8576b"
             ],
             [
              0.6666666666666666,
              "#ed7953"
             ],
             [
              0.7777777777777778,
              "#fb9f3a"
             ],
             [
              0.8888888888888888,
              "#fdca26"
             ],
             [
              1,
              "#f0f921"
             ]
            ],
            "type": "heatmap"
           }
          ],
          "heatmapgl": [
           {
            "colorbar": {
             "outlinewidth": 0,
             "ticks": ""
            },
            "colorscale": [
             [
              0,
              "#0d0887"
             ],
             [
              0.1111111111111111,
              "#46039f"
             ],
             [
              0.2222222222222222,
              "#7201a8"
             ],
             [
              0.3333333333333333,
              "#9c179e"
             ],
             [
              0.4444444444444444,
              "#bd3786"
             ],
             [
              0.5555555555555556,
              "#d8576b"
             ],
             [
              0.6666666666666666,
              "#ed7953"
             ],
             [
              0.7777777777777778,
              "#fb9f3a"
             ],
             [
              0.8888888888888888,
              "#fdca26"
             ],
             [
              1,
              "#f0f921"
             ]
            ],
            "type": "heatmapgl"
           }
          ],
          "histogram": [
           {
            "marker": {
             "colorbar": {
              "outlinewidth": 0,
              "ticks": ""
             }
            },
            "type": "histogram"
           }
          ],
          "histogram2d": [
           {
            "colorbar": {
             "outlinewidth": 0,
             "ticks": ""
            },
            "colorscale": [
             [
              0,
              "#0d0887"
             ],
             [
              0.1111111111111111,
              "#46039f"
             ],
             [
              0.2222222222222222,
              "#7201a8"
             ],
             [
              0.3333333333333333,
              "#9c179e"
             ],
             [
              0.4444444444444444,
              "#bd3786"
             ],
             [
              0.5555555555555556,
              "#d8576b"
             ],
             [
              0.6666666666666666,
              "#ed7953"
             ],
             [
              0.7777777777777778,
              "#fb9f3a"
             ],
             [
              0.8888888888888888,
              "#fdca26"
             ],
             [
              1,
              "#f0f921"
             ]
            ],
            "type": "histogram2d"
           }
          ],
          "histogram2dcontour": [
           {
            "colorbar": {
             "outlinewidth": 0,
             "ticks": ""
            },
            "colorscale": [
             [
              0,
              "#0d0887"
             ],
             [
              0.1111111111111111,
              "#46039f"
             ],
             [
              0.2222222222222222,
              "#7201a8"
             ],
             [
              0.3333333333333333,
              "#9c179e"
             ],
             [
              0.4444444444444444,
              "#bd3786"
             ],
             [
              0.5555555555555556,
              "#d8576b"
             ],
             [
              0.6666666666666666,
              "#ed7953"
             ],
             [
              0.7777777777777778,
              "#fb9f3a"
             ],
             [
              0.8888888888888888,
              "#fdca26"
             ],
             [
              1,
              "#f0f921"
             ]
            ],
            "type": "histogram2dcontour"
           }
          ],
          "mesh3d": [
           {
            "colorbar": {
             "outlinewidth": 0,
             "ticks": ""
            },
            "type": "mesh3d"
           }
          ],
          "parcoords": [
           {
            "line": {
             "colorbar": {
              "outlinewidth": 0,
              "ticks": ""
             }
            },
            "type": "parcoords"
           }
          ],
          "pie": [
           {
            "automargin": true,
            "type": "pie"
           }
          ],
          "scatter": [
           {
            "marker": {
             "colorbar": {
              "outlinewidth": 0,
              "ticks": ""
             }
            },
            "type": "scatter"
           }
          ],
          "scatter3d": [
           {
            "line": {
             "colorbar": {
              "outlinewidth": 0,
              "ticks": ""
             }
            },
            "marker": {
             "colorbar": {
              "outlinewidth": 0,
              "ticks": ""
             }
            },
            "type": "scatter3d"
           }
          ],
          "scattercarpet": [
           {
            "marker": {
             "colorbar": {
              "outlinewidth": 0,
              "ticks": ""
             }
            },
            "type": "scattercarpet"
           }
          ],
          "scattergeo": [
           {
            "marker": {
             "colorbar": {
              "outlinewidth": 0,
              "ticks": ""
             }
            },
            "type": "scattergeo"
           }
          ],
          "scattergl": [
           {
            "marker": {
             "colorbar": {
              "outlinewidth": 0,
              "ticks": ""
             }
            },
            "type": "scattergl"
           }
          ],
          "scattermapbox": [
           {
            "marker": {
             "colorbar": {
              "outlinewidth": 0,
              "ticks": ""
             }
            },
            "type": "scattermapbox"
           }
          ],
          "scatterpolar": [
           {
            "marker": {
             "colorbar": {
              "outlinewidth": 0,
              "ticks": ""
             }
            },
            "type": "scatterpolar"
           }
          ],
          "scatterpolargl": [
           {
            "marker": {
             "colorbar": {
              "outlinewidth": 0,
              "ticks": ""
             }
            },
            "type": "scatterpolargl"
           }
          ],
          "scatterternary": [
           {
            "marker": {
             "colorbar": {
              "outlinewidth": 0,
              "ticks": ""
             }
            },
            "type": "scatterternary"
           }
          ],
          "surface": [
           {
            "colorbar": {
             "outlinewidth": 0,
             "ticks": ""
            },
            "colorscale": [
             [
              0,
              "#0d0887"
             ],
             [
              0.1111111111111111,
              "#46039f"
             ],
             [
              0.2222222222222222,
              "#7201a8"
             ],
             [
              0.3333333333333333,
              "#9c179e"
             ],
             [
              0.4444444444444444,
              "#bd3786"
             ],
             [
              0.5555555555555556,
              "#d8576b"
             ],
             [
              0.6666666666666666,
              "#ed7953"
             ],
             [
              0.7777777777777778,
              "#fb9f3a"
             ],
             [
              0.8888888888888888,
              "#fdca26"
             ],
             [
              1,
              "#f0f921"
             ]
            ],
            "type": "surface"
           }
          ],
          "table": [
           {
            "cells": {
             "fill": {
              "color": "#EBF0F8"
             },
             "line": {
              "color": "white"
             }
            },
            "header": {
             "fill": {
              "color": "#C8D4E3"
             },
             "line": {
              "color": "white"
             }
            },
            "type": "table"
           }
          ]
         },
         "layout": {
          "annotationdefaults": {
           "arrowcolor": "#2a3f5f",
           "arrowhead": 0,
           "arrowwidth": 1
          },
          "autotypenumbers": "strict",
          "coloraxis": {
           "colorbar": {
            "outlinewidth": 0,
            "ticks": ""
           }
          },
          "colorscale": {
           "diverging": [
            [
             0,
             "#8e0152"
            ],
            [
             0.1,
             "#c51b7d"
            ],
            [
             0.2,
             "#de77ae"
            ],
            [
             0.3,
             "#f1b6da"
            ],
            [
             0.4,
             "#fde0ef"
            ],
            [
             0.5,
             "#f7f7f7"
            ],
            [
             0.6,
             "#e6f5d0"
            ],
            [
             0.7,
             "#b8e186"
            ],
            [
             0.8,
             "#7fbc41"
            ],
            [
             0.9,
             "#4d9221"
            ],
            [
             1,
             "#276419"
            ]
           ],
           "sequential": [
            [
             0,
             "#0d0887"
            ],
            [
             0.1111111111111111,
             "#46039f"
            ],
            [
             0.2222222222222222,
             "#7201a8"
            ],
            [
             0.3333333333333333,
             "#9c179e"
            ],
            [
             0.4444444444444444,
             "#bd3786"
            ],
            [
             0.5555555555555556,
             "#d8576b"
            ],
            [
             0.6666666666666666,
             "#ed7953"
            ],
            [
             0.7777777777777778,
             "#fb9f3a"
            ],
            [
             0.8888888888888888,
             "#fdca26"
            ],
            [
             1,
             "#f0f921"
            ]
           ],
           "sequentialminus": [
            [
             0,
             "#0d0887"
            ],
            [
             0.1111111111111111,
             "#46039f"
            ],
            [
             0.2222222222222222,
             "#7201a8"
            ],
            [
             0.3333333333333333,
             "#9c179e"
            ],
            [
             0.4444444444444444,
             "#bd3786"
            ],
            [
             0.5555555555555556,
             "#d8576b"
            ],
            [
             0.6666666666666666,
             "#ed7953"
            ],
            [
             0.7777777777777778,
             "#fb9f3a"
            ],
            [
             0.8888888888888888,
             "#fdca26"
            ],
            [
             1,
             "#f0f921"
            ]
           ]
          },
          "colorway": [
           "#636efa",
           "#EF553B",
           "#00cc96",
           "#ab63fa",
           "#FFA15A",
           "#19d3f3",
           "#FF6692",
           "#B6E880",
           "#FF97FF",
           "#FECB52"
          ],
          "font": {
           "color": "#2a3f5f"
          },
          "geo": {
           "bgcolor": "white",
           "lakecolor": "white",
           "landcolor": "#E5ECF6",
           "showlakes": true,
           "showland": true,
           "subunitcolor": "white"
          },
          "hoverlabel": {
           "align": "left"
          },
          "hovermode": "closest",
          "mapbox": {
           "style": "light"
          },
          "paper_bgcolor": "white",
          "plot_bgcolor": "#E5ECF6",
          "polar": {
           "angularaxis": {
            "gridcolor": "white",
            "linecolor": "white",
            "ticks": ""
           },
           "bgcolor": "#E5ECF6",
           "radialaxis": {
            "gridcolor": "white",
            "linecolor": "white",
            "ticks": ""
           }
          },
          "scene": {
           "xaxis": {
            "backgroundcolor": "#E5ECF6",
            "gridcolor": "white",
            "gridwidth": 2,
            "linecolor": "white",
            "showbackground": true,
            "ticks": "",
            "zerolinecolor": "white"
           },
           "yaxis": {
            "backgroundcolor": "#E5ECF6",
            "gridcolor": "white",
            "gridwidth": 2,
            "linecolor": "white",
            "showbackground": true,
            "ticks": "",
            "zerolinecolor": "white"
           },
           "zaxis": {
            "backgroundcolor": "#E5ECF6",
            "gridcolor": "white",
            "gridwidth": 2,
            "linecolor": "white",
            "showbackground": true,
            "ticks": "",
            "zerolinecolor": "white"
           }
          },
          "shapedefaults": {
           "line": {
            "color": "#2a3f5f"
           }
          },
          "ternary": {
           "aaxis": {
            "gridcolor": "white",
            "linecolor": "white",
            "ticks": ""
           },
           "baxis": {
            "gridcolor": "white",
            "linecolor": "white",
            "ticks": ""
           },
           "bgcolor": "#E5ECF6",
           "caxis": {
            "gridcolor": "white",
            "linecolor": "white",
            "ticks": ""
           }
          },
          "title": {
           "x": 0.05
          },
          "xaxis": {
           "automargin": true,
           "gridcolor": "white",
           "linecolor": "white",
           "ticks": "",
           "title": {
            "standoff": 15
           },
           "zerolinecolor": "white",
           "zerolinewidth": 2
          },
          "yaxis": {
           "automargin": true,
           "gridcolor": "white",
           "linecolor": "white",
           "ticks": "",
           "title": {
            "standoff": 15
           },
           "zerolinecolor": "white",
           "zerolinewidth": 2
          }
         }
        },
        "title": {
         "text": "Emojis más usados"
        }
       }
      },
      "text/html": [
       "<div>                            <div id=\"dc616735-f638-475e-9265-5075a77a9809\" class=\"plotly-graph-div\" style=\"height:525px; width:100%;\"></div>            <script type=\"text/javascript\">                require([\"plotly\"], function(Plotly) {                    window.PLOTLYENV=window.PLOTLYENV || {};                                    if (document.getElementById(\"dc616735-f638-475e-9265-5075a77a9809\")) {                    Plotly.newPlot(                        \"dc616735-f638-475e-9265-5075a77a9809\",                        [{\"type\": \"bar\", \"x\": [\"\\ud83d\\ude43\", \"\\ud83d\\udcaa\", \"\\u2b07\\ufe0f\", \"\\ud83d\\udd25\", \"\\ud83e\\udd37\\ud83c\\udffb\", \"\\ud83d\\udc49\\ud83c\\udffc\", \"\\ud83d\\udccc\", \"\\u23f3\", \"\\ud83d\\uddd3\", \"\\ud83e\\udd26\\u200d\\u2642\\ufe0f\", \"\\ud83e\\udd73\", \"\\ud83d\\udea8\", \"\\ud83d\\udce2\", \"\\u270a\\ud83c\\udffb\", \"\\u27a1\\ufe0f\"], \"y\": [4, 3, 2, 2, 1, 1, 1, 1, 1, 1, 1, 1, 1, 1, 1]}],                        {\"template\": {\"data\": {\"bar\": [{\"error_x\": {\"color\": \"#2a3f5f\"}, \"error_y\": {\"color\": \"#2a3f5f\"}, \"marker\": {\"line\": {\"color\": \"#E5ECF6\", \"width\": 0.5}}, \"type\": \"bar\"}], \"barpolar\": [{\"marker\": {\"line\": {\"color\": \"#E5ECF6\", \"width\": 0.5}}, \"type\": \"barpolar\"}], \"carpet\": [{\"aaxis\": {\"endlinecolor\": \"#2a3f5f\", \"gridcolor\": \"white\", \"linecolor\": \"white\", \"minorgridcolor\": \"white\", \"startlinecolor\": \"#2a3f5f\"}, \"baxis\": {\"endlinecolor\": \"#2a3f5f\", \"gridcolor\": \"white\", \"linecolor\": \"white\", \"minorgridcolor\": \"white\", \"startlinecolor\": \"#2a3f5f\"}, \"type\": \"carpet\"}], \"choropleth\": [{\"colorbar\": {\"outlinewidth\": 0, \"ticks\": \"\"}, \"type\": \"choropleth\"}], \"contour\": [{\"colorbar\": {\"outlinewidth\": 0, \"ticks\": \"\"}, \"colorscale\": [[0.0, \"#0d0887\"], [0.1111111111111111, \"#46039f\"], [0.2222222222222222, \"#7201a8\"], [0.3333333333333333, \"#9c179e\"], [0.4444444444444444, \"#bd3786\"], [0.5555555555555556, \"#d8576b\"], [0.6666666666666666, \"#ed7953\"], [0.7777777777777778, \"#fb9f3a\"], [0.8888888888888888, \"#fdca26\"], [1.0, \"#f0f921\"]], \"type\": \"contour\"}], \"contourcarpet\": [{\"colorbar\": {\"outlinewidth\": 0, \"ticks\": \"\"}, \"type\": \"contourcarpet\"}], \"heatmap\": [{\"colorbar\": {\"outlinewidth\": 0, \"ticks\": \"\"}, \"colorscale\": [[0.0, \"#0d0887\"], [0.1111111111111111, \"#46039f\"], [0.2222222222222222, \"#7201a8\"], [0.3333333333333333, \"#9c179e\"], [0.4444444444444444, \"#bd3786\"], [0.5555555555555556, \"#d8576b\"], [0.6666666666666666, \"#ed7953\"], [0.7777777777777778, \"#fb9f3a\"], [0.8888888888888888, \"#fdca26\"], [1.0, \"#f0f921\"]], \"type\": \"heatmap\"}], \"heatmapgl\": [{\"colorbar\": {\"outlinewidth\": 0, \"ticks\": \"\"}, \"colorscale\": [[0.0, \"#0d0887\"], [0.1111111111111111, \"#46039f\"], [0.2222222222222222, \"#7201a8\"], [0.3333333333333333, \"#9c179e\"], [0.4444444444444444, \"#bd3786\"], [0.5555555555555556, \"#d8576b\"], [0.6666666666666666, \"#ed7953\"], [0.7777777777777778, \"#fb9f3a\"], [0.8888888888888888, \"#fdca26\"], [1.0, \"#f0f921\"]], \"type\": \"heatmapgl\"}], \"histogram\": [{\"marker\": {\"colorbar\": {\"outlinewidth\": 0, \"ticks\": \"\"}}, \"type\": \"histogram\"}], \"histogram2d\": [{\"colorbar\": {\"outlinewidth\": 0, \"ticks\": \"\"}, \"colorscale\": [[0.0, \"#0d0887\"], [0.1111111111111111, \"#46039f\"], [0.2222222222222222, \"#7201a8\"], [0.3333333333333333, \"#9c179e\"], [0.4444444444444444, \"#bd3786\"], [0.5555555555555556, \"#d8576b\"], [0.6666666666666666, \"#ed7953\"], [0.7777777777777778, \"#fb9f3a\"], [0.8888888888888888, \"#fdca26\"], [1.0, \"#f0f921\"]], \"type\": \"histogram2d\"}], \"histogram2dcontour\": [{\"colorbar\": {\"outlinewidth\": 0, \"ticks\": \"\"}, \"colorscale\": [[0.0, \"#0d0887\"], [0.1111111111111111, \"#46039f\"], [0.2222222222222222, \"#7201a8\"], [0.3333333333333333, \"#9c179e\"], [0.4444444444444444, \"#bd3786\"], [0.5555555555555556, \"#d8576b\"], [0.6666666666666666, \"#ed7953\"], [0.7777777777777778, \"#fb9f3a\"], [0.8888888888888888, \"#fdca26\"], [1.0, \"#f0f921\"]], \"type\": \"histogram2dcontour\"}], \"mesh3d\": [{\"colorbar\": {\"outlinewidth\": 0, \"ticks\": \"\"}, \"type\": \"mesh3d\"}], \"parcoords\": [{\"line\": {\"colorbar\": {\"outlinewidth\": 0, \"ticks\": \"\"}}, \"type\": \"parcoords\"}], \"pie\": [{\"automargin\": true, \"type\": \"pie\"}], \"scatter\": [{\"marker\": {\"colorbar\": {\"outlinewidth\": 0, \"ticks\": \"\"}}, \"type\": \"scatter\"}], \"scatter3d\": [{\"line\": {\"colorbar\": {\"outlinewidth\": 0, \"ticks\": \"\"}}, \"marker\": {\"colorbar\": {\"outlinewidth\": 0, \"ticks\": \"\"}}, \"type\": \"scatter3d\"}], \"scattercarpet\": [{\"marker\": {\"colorbar\": {\"outlinewidth\": 0, \"ticks\": \"\"}}, \"type\": \"scattercarpet\"}], \"scattergeo\": [{\"marker\": {\"colorbar\": {\"outlinewidth\": 0, \"ticks\": \"\"}}, \"type\": \"scattergeo\"}], \"scattergl\": [{\"marker\": {\"colorbar\": {\"outlinewidth\": 0, \"ticks\": \"\"}}, \"type\": \"scattergl\"}], \"scattermapbox\": [{\"marker\": {\"colorbar\": {\"outlinewidth\": 0, \"ticks\": \"\"}}, \"type\": \"scattermapbox\"}], \"scatterpolar\": [{\"marker\": {\"colorbar\": {\"outlinewidth\": 0, \"ticks\": \"\"}}, \"type\": \"scatterpolar\"}], \"scatterpolargl\": [{\"marker\": {\"colorbar\": {\"outlinewidth\": 0, \"ticks\": \"\"}}, \"type\": \"scatterpolargl\"}], \"scatterternary\": [{\"marker\": {\"colorbar\": {\"outlinewidth\": 0, \"ticks\": \"\"}}, \"type\": \"scatterternary\"}], \"surface\": [{\"colorbar\": {\"outlinewidth\": 0, \"ticks\": \"\"}, \"colorscale\": [[0.0, \"#0d0887\"], [0.1111111111111111, \"#46039f\"], [0.2222222222222222, \"#7201a8\"], [0.3333333333333333, \"#9c179e\"], [0.4444444444444444, \"#bd3786\"], [0.5555555555555556, \"#d8576b\"], [0.6666666666666666, \"#ed7953\"], [0.7777777777777778, \"#fb9f3a\"], [0.8888888888888888, \"#fdca26\"], [1.0, \"#f0f921\"]], \"type\": \"surface\"}], \"table\": [{\"cells\": {\"fill\": {\"color\": \"#EBF0F8\"}, \"line\": {\"color\": \"white\"}}, \"header\": {\"fill\": {\"color\": \"#C8D4E3\"}, \"line\": {\"color\": \"white\"}}, \"type\": \"table\"}]}, \"layout\": {\"annotationdefaults\": {\"arrowcolor\": \"#2a3f5f\", \"arrowhead\": 0, \"arrowwidth\": 1}, \"autotypenumbers\": \"strict\", \"coloraxis\": {\"colorbar\": {\"outlinewidth\": 0, \"ticks\": \"\"}}, \"colorscale\": {\"diverging\": [[0, \"#8e0152\"], [0.1, \"#c51b7d\"], [0.2, \"#de77ae\"], [0.3, \"#f1b6da\"], [0.4, \"#fde0ef\"], [0.5, \"#f7f7f7\"], [0.6, \"#e6f5d0\"], [0.7, \"#b8e186\"], [0.8, \"#7fbc41\"], [0.9, \"#4d9221\"], [1, \"#276419\"]], \"sequential\": [[0.0, \"#0d0887\"], [0.1111111111111111, \"#46039f\"], [0.2222222222222222, \"#7201a8\"], [0.3333333333333333, \"#9c179e\"], [0.4444444444444444, \"#bd3786\"], [0.5555555555555556, \"#d8576b\"], [0.6666666666666666, \"#ed7953\"], [0.7777777777777778, \"#fb9f3a\"], [0.8888888888888888, \"#fdca26\"], [1.0, \"#f0f921\"]], \"sequentialminus\": [[0.0, \"#0d0887\"], [0.1111111111111111, \"#46039f\"], [0.2222222222222222, \"#7201a8\"], [0.3333333333333333, \"#9c179e\"], [0.4444444444444444, \"#bd3786\"], [0.5555555555555556, \"#d8576b\"], [0.6666666666666666, \"#ed7953\"], [0.7777777777777778, \"#fb9f3a\"], [0.8888888888888888, \"#fdca26\"], [1.0, \"#f0f921\"]]}, \"colorway\": [\"#636efa\", \"#EF553B\", \"#00cc96\", \"#ab63fa\", \"#FFA15A\", \"#19d3f3\", \"#FF6692\", \"#B6E880\", \"#FF97FF\", \"#FECB52\"], \"font\": {\"color\": \"#2a3f5f\"}, \"geo\": {\"bgcolor\": \"white\", \"lakecolor\": \"white\", \"landcolor\": \"#E5ECF6\", \"showlakes\": true, \"showland\": true, \"subunitcolor\": \"white\"}, \"hoverlabel\": {\"align\": \"left\"}, \"hovermode\": \"closest\", \"mapbox\": {\"style\": \"light\"}, \"paper_bgcolor\": \"white\", \"plot_bgcolor\": \"#E5ECF6\", \"polar\": {\"angularaxis\": {\"gridcolor\": \"white\", \"linecolor\": \"white\", \"ticks\": \"\"}, \"bgcolor\": \"#E5ECF6\", \"radialaxis\": {\"gridcolor\": \"white\", \"linecolor\": \"white\", \"ticks\": \"\"}}, \"scene\": {\"xaxis\": {\"backgroundcolor\": \"#E5ECF6\", \"gridcolor\": \"white\", \"gridwidth\": 2, \"linecolor\": \"white\", \"showbackground\": true, \"ticks\": \"\", \"zerolinecolor\": \"white\"}, \"yaxis\": {\"backgroundcolor\": \"#E5ECF6\", \"gridcolor\": \"white\", \"gridwidth\": 2, \"linecolor\": \"white\", \"showbackground\": true, \"ticks\": \"\", \"zerolinecolor\": \"white\"}, \"zaxis\": {\"backgroundcolor\": \"#E5ECF6\", \"gridcolor\": \"white\", \"gridwidth\": 2, \"linecolor\": \"white\", \"showbackground\": true, \"ticks\": \"\", \"zerolinecolor\": \"white\"}}, \"shapedefaults\": {\"line\": {\"color\": \"#2a3f5f\"}}, \"ternary\": {\"aaxis\": {\"gridcolor\": \"white\", \"linecolor\": \"white\", \"ticks\": \"\"}, \"baxis\": {\"gridcolor\": \"white\", \"linecolor\": \"white\", \"ticks\": \"\"}, \"bgcolor\": \"#E5ECF6\", \"caxis\": {\"gridcolor\": \"white\", \"linecolor\": \"white\", \"ticks\": \"\"}}, \"title\": {\"x\": 0.05}, \"xaxis\": {\"automargin\": true, \"gridcolor\": \"white\", \"linecolor\": \"white\", \"ticks\": \"\", \"title\": {\"standoff\": 15}, \"zerolinecolor\": \"white\", \"zerolinewidth\": 2}, \"yaxis\": {\"automargin\": true, \"gridcolor\": \"white\", \"linecolor\": \"white\", \"ticks\": \"\", \"title\": {\"standoff\": 15}, \"zerolinecolor\": \"white\", \"zerolinewidth\": 2}}}, \"title\": {\"text\": \"Emojis m\\u00e1s usados\"}},                        {\"responsive\": true}                    ).then(function(){\n",
       "                            \n",
       "var gd = document.getElementById('dc616735-f638-475e-9265-5075a77a9809');\n",
       "var x = new MutationObserver(function (mutations, observer) {{\n",
       "        var display = window.getComputedStyle(gd).display;\n",
       "        if (!display || display === 'none') {{\n",
       "            console.log([gd, 'removed!']);\n",
       "            Plotly.purge(gd);\n",
       "            observer.disconnect();\n",
       "        }}\n",
       "}});\n",
       "\n",
       "// Listen for the removal of the full notebook cells\n",
       "var notebookContainer = gd.closest('#notebook-container');\n",
       "if (notebookContainer) {{\n",
       "    x.observe(notebookContainer, {childList: true});\n",
       "}}\n",
       "\n",
       "// Listen for the clearing of the current output cell\n",
       "var outputEl = gd.closest('.output');\n",
       "if (outputEl) {{\n",
       "    x.observe(outputEl, {childList: true});\n",
       "}}\n",
       "\n",
       "                        })                };                });            </script>        </div>"
      ]
     },
     "metadata": {},
     "output_type": "display_data"
    }
   ],
   "source": [
    "trace = go.Bar(x=temp_emojis.emoji.values[:15],\n",
    "               y=temp_emojis.cnt.values[:15])\n",
    "\n",
    "layout = go.Layout(title='Emojis más usados')\n",
    "\n",
    "fig = go.Figure(data=[trace], layout=layout)\n",
    "iplot(fig)"
   ]
  },
  {
   "cell_type": "code",
   "execution_count": null,
   "metadata": {},
   "outputs": [],
   "source": []
  }
 ],
 "metadata": {
  "kernelspec": {
   "display_name": "Python 3",
   "language": "python",
   "name": "python3"
  },
  "language_info": {
   "codemirror_mode": {
    "name": "ipython",
    "version": 3
   },
   "file_extension": ".py",
   "mimetype": "text/x-python",
   "name": "python",
   "nbconvert_exporter": "python",
   "pygments_lexer": "ipython3",
   "version": "3.8.3"
  }
 },
 "nbformat": 4,
 "nbformat_minor": 2
}
